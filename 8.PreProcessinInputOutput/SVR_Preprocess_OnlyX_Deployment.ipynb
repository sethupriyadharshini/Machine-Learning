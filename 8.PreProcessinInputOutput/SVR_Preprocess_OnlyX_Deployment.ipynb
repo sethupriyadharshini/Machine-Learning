{
 "cells": [
  {
   "cell_type": "code",
   "execution_count": 1,
   "id": "246c1862-714c-4eee-9a8c-992a19ea20b8",
   "metadata": {},
   "outputs": [],
   "source": [
    "import pickle"
   ]
  },
  {
   "cell_type": "code",
   "execution_count": 3,
   "id": "0c003475-c11e-43ca-9b84-e107833eb468",
   "metadata": {},
   "outputs": [
    {
     "name": "stderr",
     "output_type": "stream",
     "text": [
      "C:\\Users\\sethu\\anaconda3\\Lib\\site-packages\\sklearn\\base.py:493: UserWarning: X does not have valid feature names, but StandardScaler was fitted with feature names\n",
      "  warnings.warn(\n"
     ]
    }
   ],
   "source": [
    "sc = pickle.load(open('standardscalerforX.sav','rb'))\n",
    "\n",
    "preinput = sc.transform([[1234, 345, 4565, 1, 1]]) #Preprocessing the input with standard scaler\n",
    "\n",
    "loaded_model = pickle.load(open(\"SVR_Preprocessed_X.sav\", \"rb\")) #load the saved file\n",
    "result = loaded_model.predict(preinput) #passed preinput value to the model"
   ]
  },
  {
   "cell_type": "code",
   "execution_count": 5,
   "id": "46049080-f34c-41c9-ad1f-673484aca138",
   "metadata": {},
   "outputs": [
    {
     "data": {
      "text/plain": [
       "array([108408.95450851])"
      ]
     },
     "execution_count": 5,
     "metadata": {},
     "output_type": "execute_result"
    }
   ],
   "source": [
    "result"
   ]
  },
  {
   "cell_type": "code",
   "execution_count": null,
   "id": "e001697e-c8b9-467c-9041-355ecb8b07c0",
   "metadata": {},
   "outputs": [],
   "source": []
  }
 ],
 "metadata": {
  "kernelspec": {
   "display_name": "Python [conda env:base] *",
   "language": "python",
   "name": "conda-base-py"
  },
  "language_info": {
   "codemirror_mode": {
    "name": "ipython",
    "version": 3
   },
   "file_extension": ".py",
   "mimetype": "text/x-python",
   "name": "python",
   "nbconvert_exporter": "python",
   "pygments_lexer": "ipython3",
   "version": "3.12.7"
  }
 },
 "nbformat": 4,
 "nbformat_minor": 5
}
