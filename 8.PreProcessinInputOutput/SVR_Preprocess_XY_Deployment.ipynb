{
 "cells": [
  {
   "cell_type": "code",
   "execution_count": 1,
   "id": "246c1862-714c-4eee-9a8c-992a19ea20b8",
   "metadata": {},
   "outputs": [],
   "source": [
    "import pickle"
   ]
  },
  {
   "cell_type": "code",
   "execution_count": 3,
   "id": "0c003475-c11e-43ca-9b84-e107833eb468",
   "metadata": {},
   "outputs": [
    {
     "name": "stderr",
     "output_type": "stream",
     "text": [
      "C:\\Users\\sethu\\anaconda3\\Lib\\site-packages\\sklearn\\base.py:493: UserWarning: X does not have valid feature names, but StandardScaler was fitted with feature names\n",
      "  warnings.warn(\n"
     ]
    }
   ],
   "source": [
    "sc_X = pickle.load(open('standardscalerforX.sav','rb')) #load the standard scaler saved file for X\n",
    "\n",
    "preinput = sc_X.transform([[1234, 345, 4565, 1, 1]]) #Preprocessing the input with standard scaler\n",
    "\n",
    "loaded_model = pickle.load(open(\"SVR_Preprocessed_XY.sav\", \"rb\")) #load the saved file\n",
    "result = loaded_model.predict(preinput) #passed preinput value to the model"
   ]
  },
  {
   "cell_type": "code",
   "execution_count": 5,
   "id": "46049080-f34c-41c9-ad1f-673484aca138",
   "metadata": {},
   "outputs": [
    {
     "data": {
      "text/plain": [
       "array([-0.36495487])"
      ]
     },
     "execution_count": 5,
     "metadata": {},
     "output_type": "execute_result"
    }
   ],
   "source": [
    "result"
   ]
  },
  {
   "cell_type": "code",
   "execution_count": 7,
   "id": "11a6d4e2-f02b-47fc-b83c-c8178403e87b",
   "metadata": {},
   "outputs": [],
   "source": [
    "sc_Y = pickle.load(open('standardscalerforY.sav','rb')) #load the standard scaler saved file for Y"
   ]
  },
  {
   "cell_type": "code",
   "execution_count": 9,
   "id": "e001697e-c8b9-467c-9041-355ecb8b07c0",
   "metadata": {},
   "outputs": [
    {
     "data": {
      "text/plain": [
       "array([[94527.60361365]])"
      ]
     },
     "execution_count": 9,
     "metadata": {},
     "output_type": "execute_result"
    }
   ],
   "source": [
    "final_output = sc_Y.inverse_transform([result]) #preprocessed output transform to original or readable value\n",
    "final_output"
   ]
  },
  {
   "cell_type": "code",
   "execution_count": null,
   "id": "2838190e-37f9-42ca-8fc9-4c31fc3bd59f",
   "metadata": {},
   "outputs": [],
   "source": []
  }
 ],
 "metadata": {
  "kernelspec": {
   "display_name": "Python [conda env:base] *",
   "language": "python",
   "name": "conda-base-py"
  },
  "language_info": {
   "codemirror_mode": {
    "name": "ipython",
    "version": 3
   },
   "file_extension": ".py",
   "mimetype": "text/x-python",
   "name": "python",
   "nbconvert_exporter": "python",
   "pygments_lexer": "ipython3",
   "version": "3.12.7"
  }
 },
 "nbformat": 4,
 "nbformat_minor": 5
}
