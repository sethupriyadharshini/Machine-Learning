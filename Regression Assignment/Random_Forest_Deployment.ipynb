{
 "cells": [
  {
   "cell_type": "code",
   "execution_count": 1,
   "id": "030bc937-e62a-49f5-80c7-dfcc5194265f",
   "metadata": {},
   "outputs": [],
   "source": [
    "import pickle"
   ]
  },
  {
   "cell_type": "code",
   "execution_count": 3,
   "id": "0e316690-086c-48df-bd8b-07dadf67a5b3",
   "metadata": {},
   "outputs": [
    {
     "name": "stdin",
     "output_type": "stream",
     "text": [
      "Enter the age: 30\n",
      "Enter the BMI: 25.999\n",
      "Enter the children number: 3\n",
      "Enter sex (0 for female and 1 for male): 0\n",
      "Enter 0 for non smoker and 1 for smoker: 0\n"
     ]
    }
   ],
   "source": [
    "age = int(input(\"Enter the age:\"))\n",
    "bmi = float(input(\"Enter the BMI:\"))\n",
    "children = int(input(\"Enter the children number:\"))\n",
    "sex = int(input(\"Enter sex (0 for female and 1 for male):\"))\n",
    "smoker = int(input(\"Enter 0 for non smoker and 1 for smoker:\"))"
   ]
  },
  {
   "cell_type": "code",
   "execution_count": 5,
   "id": "36fdccab-fbb5-4de0-84b4-fd6f2b27e462",
   "metadata": {},
   "outputs": [],
   "source": [
    "loaded_module = pickle.load(open(\"finalized_model_random_forest_reg.sav\", 'rb'))\n",
    "result = loaded_module.predict([[age, bmi, children, sex, smoker]]) #30,25.899,2,1,1 "
   ]
  },
  {
   "cell_type": "code",
   "execution_count": 7,
   "id": "4773965b-936d-4f5f-b89f-d408a43947f2",
   "metadata": {},
   "outputs": [
    {
     "data": {
      "text/plain": [
       "array([21077.96004])"
      ]
     },
     "execution_count": 7,
     "metadata": {},
     "output_type": "execute_result"
    }
   ],
   "source": [
    "result"
   ]
  },
  {
   "cell_type": "code",
   "execution_count": null,
   "id": "b7b19adf-d2db-4434-b700-381d6ab04169",
   "metadata": {},
   "outputs": [],
   "source": []
  }
 ],
 "metadata": {
  "kernelspec": {
   "display_name": "Python [conda env:base] *",
   "language": "python",
   "name": "conda-base-py"
  },
  "language_info": {
   "codemirror_mode": {
    "name": "ipython",
    "version": 3
   },
   "file_extension": ".py",
   "mimetype": "text/x-python",
   "name": "python",
   "nbconvert_exporter": "python",
   "pygments_lexer": "ipython3",
   "version": "3.12.7"
  }
 },
 "nbformat": 4,
 "nbformat_minor": 5
}
